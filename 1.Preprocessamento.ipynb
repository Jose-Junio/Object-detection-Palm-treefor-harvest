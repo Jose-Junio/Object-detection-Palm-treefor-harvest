{
 "cells": [
  {
   "cell_type": "markdown",
   "id": "10031d57-4e6f-4587-86ff-4eedcf5cd758",
   "metadata": {},
   "source": [
    "# Palmas Machine Learning - Etapa de preprocessamento\n",
    "\n",
    "Neste notebook estão as etapas de preprocessamento para as imagens de palmas dos tipos *miuda* e *orelha de elefante*.\n",
    "\n",
    "Os processos foram feitos da seguinte maneira:\n",
    "\n",
    "- Remoção de artefatos usando o Photoshop para todas as imagens;\n",
    "- Normalização das imagens para o padrão RGB;\n",
    "- Redimensionamento das imagens para 640x640;\n",
    "- Normalização das imagens do para a escala de 0 a 1;\n",
    "- Augmento de dados.\n"
   ]
  },
  {
   "cell_type": "code",
   "execution_count": 6,
   "id": "587a29bc-6b11-4719-af3f-39b0f5acc477",
   "metadata": {},
   "outputs": [],
   "source": [
    "import Augmentor\n",
    "import cv2\n",
    "import matplotlib.pyplot as plt\n",
    "import numpy as np\n",
    "import os\n",
    "import shutil"
   ]
  },
  {
   "cell_type": "markdown",
   "id": "11812dba-d436-426b-ab26-736c3752bed3",
   "metadata": {},
   "source": [
    "## Miuda\n"
   ]
  },
  {
   "cell_type": "code",
   "execution_count": 19,
   "id": "a93df815-6332-4635-b9fc-072e06ac4c58",
   "metadata": {},
   "outputs": [
    {
     "name": "stdout",
     "output_type": "stream",
     "text": [
      "Número de imagens da miuda: 38\n"
     ]
    }
   ],
   "source": [
    "miuda_imagens = os.listdir('Miuda editada')\n",
    "print(f'Número de imagens da miuda: {len(miuda_imagens)}')"
   ]
  },
  {
   "cell_type": "code",
   "execution_count": 20,
   "id": "c39ee858-106a-46ee-8bf6-589ea4ef2b5e",
   "metadata": {},
   "outputs": [
    {
     "name": "stdout",
     "output_type": "stream",
     "text": [
      "Diretório foi criado!\n"
     ]
    }
   ],
   "source": [
    "datasets_dir = 'imagens_redimensionadas_normalizadas/Miuda'\n",
    "\n",
    "if not os.path.exists(datasets_dir):\n",
    "    os.makedirs(datasets_dir)\n",
    "    print('Diretório foi criado!')"
   ]
  },
  {
   "cell_type": "markdown",
   "id": "18e64787-84d8-4f15-838a-cee5af2a2b26",
   "metadata": {},
   "source": [
    "### Redimensionamento e normalização\n",
    "\n",
    "Redimensiosamento para 640x640 e normalização das imagens para o padrão RGB e para a escala de 0 a 1."
   ]
  },
  {
   "cell_type": "code",
   "execution_count": 21,
   "id": "2256806b-4597-4b51-8f35-90858c950c57",
   "metadata": {},
   "outputs": [],
   "source": [
    "for miuda_imagem in miuda_imagens:\n",
    "    image = cv2.imread(f'Miuda editada/{miuda_imagem}')\n",
    "    image = cv2.cvtColor(image, cv2.COLOR_BGR2RGB)\n",
    "    # Resimensionamento da imagem\n",
    "    image = cv2.resize(image, (640, 640))\n",
    "    # Normalização para imagem para escala de 0 a 1\n",
    "    image = image / 255.0\n",
    "    # Salvar image\n",
    "    plt.imsave(fname=f'{datasets_dir}/{miuda_imagem}', arr=image)"
   ]
  },
  {
   "cell_type": "markdown",
   "id": "f3306ee8-aa04-4829-9fb4-9f805d2372f0",
   "metadata": {},
   "source": [
    "### Augmento de imagens"
   ]
  },
  {
   "cell_type": "code",
   "execution_count": 22,
   "id": "4ba0870b-3510-4d94-b926-07c18d403a3c",
   "metadata": {},
   "outputs": [
    {
     "name": "stdout",
     "output_type": "stream",
     "text": [
      "Número de imagens da miuda: 38\n"
     ]
    }
   ],
   "source": [
    "miuda_imagens = os.listdir('imagens_redimensionadas_normalizadas/Miuda')\n",
    "print(f'Número de imagens da miuda: {len(miuda_imagens)}')"
   ]
  },
  {
   "cell_type": "code",
   "execution_count": 23,
   "id": "dde4bd75-4a26-4a48-bb82-cf744dc21a14",
   "metadata": {},
   "outputs": [
    {
     "name": "stdout",
     "output_type": "stream",
     "text": [
      "Diretório foi criado!\n"
     ]
    }
   ],
   "source": [
    "datasets_dir = 'imagens_augmentadas/Miuda'\n",
    "\n",
    "if not os.path.exists(datasets_dir):\n",
    "    os.makedirs(datasets_dir)\n",
    "    print('Diretório foi criado!')"
   ]
  },
  {
   "cell_type": "code",
   "execution_count": 26,
   "id": "029f6f35-0744-4a17-8aed-9f3a2388df44",
   "metadata": {},
   "outputs": [
    {
     "name": "stdout",
     "output_type": "stream",
     "text": [
      "Initialised with 38 image(s) found.\n",
      "Output directory set to imagens_redimensionadas_normalizadas/Miuda/output."
     ]
    },
    {
     "name": "stderr",
     "output_type": "stream",
     "text": [
      "Processing <PIL.Image.Image image mode=RGB size=640x640 at 0x7F8903DD3DC0>: 100%\n",
      "Processing <PIL.Image.Image image mode=RGB size=640x640 at 0x7F8903DD22C0>: 100%"
     ]
    },
    {
     "name": "stdout",
     "output_type": "stream",
     "text": [
      "Concluído\n"
     ]
    },
    {
     "name": "stderr",
     "output_type": "stream",
     "text": [
      "\n"
     ]
    }
   ],
   "source": [
    "# Caminho para a pasta onde as imagens normalizadas estão localizadas\n",
    "pasta_redimensionadas_normalizadas = 'imagens_redimensionadas_normalizadas/Miuda'\n",
    "p = Augmentor.Pipeline(pasta_redimensionadas_normalizadas)\n",
    "\n",
    "\n",
    "p.rotate(probability=0.7, max_left_rotation=10, max_right_rotation=10)\n",
    "p.zoom_random(probability=0.7, percentage_area=0.8)\n",
    "p.flip_left_right(probability=0.5)\n",
    "p.flip_top_bottom(probability=0.5)\n",
    "p.sample(100)\n",
    "\n",
    "\n",
    "p.process()\n",
    "\n",
    "print('Concluído')"
   ]
  },
  {
   "cell_type": "code",
   "execution_count": 27,
   "id": "1bdea474-069a-484f-84a7-e1622fdb425b",
   "metadata": {},
   "outputs": [],
   "source": [
    "miuda_imagens_aumentadas_path = 'imagens_redimensionadas_normalizadas/Miuda/output'\n",
    "miuda_imagens_aumentadas = os.listdir(miuda_imagens_aumentadas_path)\n",
    "for image in miuda_imagens_aumentadas:\n",
    "    shutil.move(f'{miuda_imagens_aumentadas_path}/{image}', 'imagens_augmentadas/Miuda')"
   ]
  },
  {
   "cell_type": "markdown",
   "id": "b9faff3e-990c-4010-9b81-82ebd874e9a6",
   "metadata": {},
   "source": [
    "## Orelha de Elefante"
   ]
  },
  {
   "cell_type": "code",
   "execution_count": 53,
   "id": "0f73d704-1aab-4a21-8397-ba9c8d9ea9a0",
   "metadata": {},
   "outputs": [
    {
     "name": "stdout",
     "output_type": "stream",
     "text": [
      "Número de imagens de Orelha de Elefante: 56\n"
     ]
    }
   ],
   "source": [
    "elefante_imagens = os.listdir('Orelha de elefante editada')\n",
    "print(f'Número de imagens de Orelha de Elefante: {len(elefante_imagens)}')"
   ]
  },
  {
   "cell_type": "code",
   "execution_count": 54,
   "id": "26c9739a-31b0-48dd-bc6e-b2ae4554ebdb",
   "metadata": {},
   "outputs": [],
   "source": [
    "datasets_dir = 'imagens_redimensionadas_normalizadas/Orelha_elefante'\n",
    "\n",
    "if not os.path.exists(datasets_dir):\n",
    "    os.makedirs(datasets_dir)\n",
    "    print('Diretório foi criado!')"
   ]
  },
  {
   "cell_type": "markdown",
   "id": "9208794d-36ae-496c-b8e6-cd017f3ff82b",
   "metadata": {},
   "source": [
    "### Redimensionamento e normalização\n",
    "\n",
    "Redimensiosamento para 640x640 e normalização das imagens para o padrão RGB e para a escala de 0 a 1."
   ]
  },
  {
   "cell_type": "code",
   "execution_count": 55,
   "id": "77a29d5d-b64e-4e88-9a75-d9c2867a755f",
   "metadata": {},
   "outputs": [],
   "source": [
    "for elefante_imagem in elefante_imagens:\n",
    "    image = cv2.imread(f'Orelha de elefante editada/{elefante_imagem}')\n",
    "    image = cv2.cvtColor(image, cv2.COLOR_BGR2RGB)\n",
    "    # Resimensionamento da imagem\n",
    "    image = cv2.resize(image, (640, 640))\n",
    "    # Normalização para imagem para escala de 0 a 1\n",
    "    image = image / 255.0\n",
    "    # Salvar image\n",
    "    plt.imsave(fname=f'{datasets_dir}/{elefante_imagem}', arr=image)"
   ]
  },
  {
   "cell_type": "markdown",
   "id": "f77c4eeb-813a-4e04-9de5-440f18bc0060",
   "metadata": {},
   "source": [
    "### Augmento de imagens"
   ]
  },
  {
   "cell_type": "code",
   "execution_count": 15,
   "id": "c13f5b32-78ac-4704-8199-bacf5bdd10b9",
   "metadata": {},
   "outputs": [
    {
     "name": "stdout",
     "output_type": "stream",
     "text": [
      "Número de imagens de Orelha de Elefante: 56\n"
     ]
    }
   ],
   "source": [
    "elefante_imagens = os.listdir('imagens_redimensionadas_normalizadas/Orelha_elefante')\n",
    "print(f'Número de imagens de Orelha de Elefante: {len(elefante_imagens)}')"
   ]
  },
  {
   "cell_type": "code",
   "execution_count": 16,
   "id": "2f598f30-4f34-4f28-92f5-637cac712aea",
   "metadata": {},
   "outputs": [
    {
     "name": "stdout",
     "output_type": "stream",
     "text": [
      "Diretório foi criado!\n"
     ]
    }
   ],
   "source": [
    "datasets_dir = 'imagens_augmentadas/Orelha_elefante'\n",
    "\n",
    "if not os.path.exists(datasets_dir):\n",
    "    os.makedirs(datasets_dir)\n",
    "    print('Diretório foi criado!')"
   ]
  },
  {
   "cell_type": "code",
   "execution_count": 17,
   "id": "b91bf795-54a3-4924-be91-39a272a8d8d9",
   "metadata": {},
   "outputs": [
    {
     "name": "stdout",
     "output_type": "stream",
     "text": [
      "Initialised with 56 image(s) found.\n",
      "Output directory set to imagens_redimensionadas_normalizadas/Orelha_elefante/output."
     ]
    },
    {
     "name": "stderr",
     "output_type": "stream",
     "text": [
      "Processing <PIL.JpegImagePlugin.JpegImageFile image mode=RGB size=640x640 at 0x7\n",
      "Processing <PIL.Image.Image image mode=RGB size=640x640 at 0x7F8903DD07C0>: 100%"
     ]
    },
    {
     "name": "stdout",
     "output_type": "stream",
     "text": [
      "Concluído\n"
     ]
    },
    {
     "name": "stderr",
     "output_type": "stream",
     "text": [
      "\n"
     ]
    }
   ],
   "source": [
    "# Caminho para a pasta onde as imagens normalizadas estão localizadas\n",
    "pasta_redimensionadas_normalizadas = 'imagens_redimensionadas_normalizadas/Orelha_elefante'\n",
    "p = Augmentor.Pipeline(pasta_redimensionadas_normalizadas)\n",
    "\n",
    "\n",
    "p.rotate(probability=0.7, max_left_rotation=10, max_right_rotation=10)\n",
    "p.zoom_random(probability=0.7, percentage_area=0.8)\n",
    "p.flip_left_right(probability=0.5)\n",
    "p.flip_top_bottom(probability=0.5)\n",
    "p.sample(100)\n",
    "\n",
    "\n",
    "p.process()\n",
    "\n",
    "print('Concluído')"
   ]
  },
  {
   "cell_type": "code",
   "execution_count": 18,
   "id": "1f6a5d42-38aa-49c1-b96a-4db0dadddafc",
   "metadata": {},
   "outputs": [],
   "source": [
    "elefante_imagens_aumentadas_path = 'imagens_redimensionadas_normalizadas/Orelha_elefante/output'\n",
    "elefante_imagens_aumentadas = os.listdir(elefante_imagens_aumentadas_path)\n",
    "for image in elefante_imagens_aumentadas:\n",
    "    shutil.move(f'{elefante_imagens_aumentadas_path}/{image}', 'imagens_augmentadas/Orelha_elefante')"
   ]
  },
  {
   "cell_type": "markdown",
   "id": "f1460d75-f341-407b-819c-69e198f12af6",
   "metadata": {},
   "source": [
    "## Renomeação do diretório\n",
    "\n",
    "Renomeação do diretório com as imagens preprocessadas"
   ]
  },
  {
   "cell_type": "code",
   "execution_count": 28,
   "id": "158f204d-32e1-43f4-99a1-64261b5ca73f",
   "metadata": {},
   "outputs": [],
   "source": [
    "os.rename('imagens_augmentadas', 'dataset')"
   ]
  },
  {
   "cell_type": "code",
   "execution_count": null,
   "id": "328ab26a-19e3-465b-9c5b-d0a893bde2da",
   "metadata": {},
   "outputs": [],
   "source": []
  }
 ],
 "metadata": {
  "kernelspec": {
   "display_name": "Python 3 (ipykernel)",
   "language": "python",
   "name": "python3"
  },
  "language_info": {
   "codemirror_mode": {
    "name": "ipython",
    "version": 3
   },
   "file_extension": ".py",
   "mimetype": "text/x-python",
   "name": "python",
   "nbconvert_exporter": "python",
   "pygments_lexer": "ipython3",
   "version": "3.10.12"
  }
 },
 "nbformat": 4,
 "nbformat_minor": 5
}
